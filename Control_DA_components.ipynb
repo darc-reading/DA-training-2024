{
 "cells": [
  {
   "cell_type": "markdown",
   "id": "fd7b75c8-fea5-42c8-90e4-4237bd362725",
   "metadata": {
    "lines_to_next_cell": 2
   },
   "source": [
    "# Exploration of DA building blocks for Lorenz 96 model\n",
    "AMF, March 2023"
   ]
  },
  {
   "cell_type": "markdown",
   "id": "03f737e5",
   "metadata": {},
   "source": [
    "# Introduction\n",
    "Over the next few days we will be exploring the use of different DA algorithms \n",
    "for estimating and forecasting the state of a system. To enable this, in \n",
    "today's practical we will begin by setting up an idealised system in which \n",
    "the true underlying dynamics are described by the Lorenz 96 model. From the \n",
    "true dynamics we will then generate a background and observations consistent \n",
    "with their assumed error chareteristics. This approach is known as identical \n",
    "twin experiments and allows us to fully evaluate the success of different DA \n",
    "algorithms.\n",
    "\n",
    "First of all we need to import the functions needed."
   ]
  },
  {
   "cell_type": "code",
   "execution_count": null,
   "id": "9e670a8a",
   "metadata": {},
   "outputs": [],
   "source": [
    "import numpy as np\n",
    "from tools.L96_model import lorenz96\n",
    "from tools.obs import createH, gen_obs\n",
    "from tools.cov import getBcanadian\n",
    "from tools.plots import plotL96, plotL96obs, plotL96_Linerr, plotH, tileplotB\n",
    "from tools.diag import compute_lin_error"
   ]
  },
  {
   "cell_type": "markdown",
   "id": "5a29adde",
   "metadata": {
    "lines_to_next_cell": 0
   },
   "source": [
    "# The Lorenz 96 model\n",
    "The Lorenz 96 model describes the simplified evolution of a univariate large-scale \n",
    "atmospheric system on a one dimensional circle of latitude; simulating external \n",
    "forcing, internal dissipation and advection. It is given by \n",
    "the following equations\n",
    "\\begin{equation}\n",
    "\\frac{dx_i}{dt} = (x_{i+1} - x_{i-2})x_{i-1} - x_i + F \\quad \\text{for } i = 1, 2, \\ldots, n \\\\\n",
    "\\end{equation}\n",
    "where $x_i$ is the state variable at position $i$, and $F$ is a forcing term.\n",
    "\n",
    "Running the next section of code will produce a Hovmoller plot of the Lorenz \n",
    "96 model when $n=12$ and $F=8$. What structures are identifiable within this plot?"
   ]
  },
  {
   "cell_type": "code",
   "execution_count": null,
   "id": "96917134",
   "metadata": {
    "lines_to_next_cell": 2
   },
   "outputs": [],
   "source": [
    "n      = 12     # No. of state variables (No. of nodes in Lorenz-96)\n",
    "F      = 8.0    # Forcing F>5.0 guarantees chaos\n",
    "deltat = 0.025  # Model timestep, 0.025 equivalent to approxiamately 3 hours\n",
    "tf     = 5.0    # The final time of the simulation\n",
    "t      = np.arange(0.0, tf+deltat/2, deltat)  # Set an array of the timesteps\n",
    "\n",
    "# Set the initial conditions to something plus a perturbation\n",
    "x0     = np.repeat(10.0, n)\n",
    "x0[1] += 0.05\n",
    "\n",
    "# Discard the first number of model time steps (spin-up)\n",
    "discard = 150\n",
    "\n",
    "# Call the model integration scheme and output a time sequence\n",
    "xtrue  = lorenz96(x0, tf, deltat, discard, F)\n",
    "\n",
    "# Plot the truth\n",
    "plotL96(t, xtrue, n, 'Lorenz 96 system')"
   ]
  },
  {
   "cell_type": "markdown",
   "id": "06e7e221",
   "metadata": {
    "lines_to_next_cell": 0
   },
   "source": [
    "# Linearisation error\n",
    "In many data assimilation schemes there is a strong assumption that the \n",
    "error statistics are Gaussian. This assumption is very closely linked to the \n",
    "assumption that the propogating model is linear.\n",
    "The error in assuming the model is linear can be quantified in terms of how \n",
    "well the linearised (Tangent Linear) model \n",
    "acting on an increment describes the evolution of the difference between two \n",
    "non-linear runs initially separated by the same increment.\n",
    "\\begin{equation}\n",
    "lin error(t) = ||NL({\\bf x}+\\Delta {\\bf x},t)-NL({\\bf x},t)-TL\\Delta {\\bf x},t||\n",
    "\\end{equation}\n",
    "where $|| .||$ represents the L2 norm.\n",
    "The size of the linearisation error will depend on the size of increment, \n",
    "$\\Delta {\\bf x}$, and length of the similation, $t$. Therefore, we want to find \n",
    "timescales for which the linearisation error remains small for \n",
    "the magnitude of a typical analysis increment, ${\\bf x}_a-{\\bf x}_b={\\bf K}({\\bf y}-h({\\bf x}_b))$. \n",
    "\n",
    "In the next section of code the linearisation error is computed for the lorenz 96 model."
   ]
  },
  {
   "cell_type": "code",
   "execution_count": null,
   "id": "94ea489a",
   "metadata": {
    "lines_to_next_cell": 0
   },
   "outputs": [],
   "source": [
    "lin_t       = 10*deltat # length of time to compute linearisation error for \n",
    "pert   = xtrue[:,5]-xtrue[:,4]#-np.ones(n,)*np.sqrt(5/np.pi) #-np.ones(n,) #xtrue[:,2]-xtrue[:,0]# pertubation\n",
    "lin_error,NLdiff,TLdiff = compute_lin_error(pert,xtrue[:,0], F, lin_t, deltat)\n",
    "# plot TL and non-linear model. Compute the linearisation error as a function of time.\n",
    "plotL96_Linerr(lin_error,NLdiff,TLdiff)"
   ]
  },
  {
   "cell_type": "markdown",
   "id": "133b0696",
   "metadata": {
    "lines_to_next_cell": 0
   },
   "source": [
    "What does the linearisation error tell you about how frequently you need to \n",
    "observe the system?\n",
    "Try changing the variable $pert$. How sensitive is the linearisation to \n",
    "the magnitude and sign of the increment? What governs \n",
    "the size of increments that the linearisation error needs to be small for?"
   ]
  },
  {
   "cell_type": "code",
   "execution_count": null,
   "id": "27c7ac0c",
   "metadata": {},
   "outputs": [],
   "source": []
  },
  {
   "cell_type": "markdown",
   "id": "3ad64884",
   "metadata": {
    "lines_to_next_cell": 0
   },
   "source": [
    "# Generation of Bmatrix\n",
    "To assimilate data into the Lorenz 96 model we need to have an estimate \n",
    "of the background error covariance matrix, this should represent all sources \n",
    "of uncertainty in the background estimate. As the background generally comes from\n",
    "a forecast from the previous analysis, a large source of uncertainty comes from \n",
    "the internal variability of the forecasting model. This can be estimated before\n",
    "an assimilation system is in place using the 'Canadian Quick' method. This\n",
    "method estimates B as the sample covariance of differneces in time lagged \n",
    "forecasts generated from a long forecast run.\n",
    "\\begin{equation}\n",
    "\\epsilon = ({\\bf x}(t+T)-{\\bf x}(t))/\\sqrt(2)),\n",
    "\\end{equation}\n",
    "where $T$ is the size of the time lag.\n",
    "\n",
    "The following code estimates ${\\bf B}$ using the Canadian Quick method for the Lorenz 96 model."
   ]
  },
  {
   "cell_type": "code",
   "execution_count": null,
   "id": "3f374fbc",
   "metadata": {
    "lines_to_next_cell": 0
   },
   "outputs": [],
   "source": [
    "lag         = int(0.1/deltat) # the lag, T, in number of time steps, \n",
    "                    # 6 hours is about 0.05 time units, one period of system is about 1.8 time units\n",
    "max_var     = None#2# # scales the estimated B to have a maximum variance\n",
    "sample_size = 10000 # number of samples to estimate B\n",
    "xB  = lorenz96(x0, sample_size*deltat, deltat, discard, F)\n",
    "B,Bcorr     = getBcanadian(xB,lag,max_var,sample_size)# create a climatological matrix \n",
    "# set plot properties and then plot\n",
    "mycmap      = 'BrBG'  \n",
    "vs          = [-np.amax(np.diag(B)),np.amax(np.diag(B))]     \n",
    "tileplotB(B,mycmap,vs)   "
   ]
  },
  {
   "cell_type": "markdown",
   "id": "e9da1f4a",
   "metadata": {
    "lines_to_next_cell": 0
   },
   "source": [
    "What does the structure of the B matrix tell you about how information in \n",
    "observations will be spread to other variables? \n",
    "How sensitive is the estimate \n",
    "of B to the lag and sample_size paramaters?"
   ]
  },
  {
   "cell_type": "code",
   "execution_count": null,
   "id": "d9f16454",
   "metadata": {},
   "outputs": [],
   "source": []
  },
  {
   "cell_type": "markdown",
   "id": "15aff66e",
   "metadata": {
    "lines_to_next_cell": 0
   },
   "source": [
    "# Generation of observations\n",
    "In identical twin experiments we can simulate the observations to be consistent \n",
    "with the truth (represented in the model space) given the error of the observations and the observation operator \n",
    "(the mapping from the model variables to those observed).\n",
    "Four different options for the observation operator are given below:\n",
    "- 'all': in which every model variable is directly observed, such that we have $n$ observations\n",
    "- '1010': in which every other model variable is directly observed, such that we have $n/2$ observations\n",
    "- 'landsea': in which half the domain is directly observed, such that we have $n/2$ observations\n",
    "- 'foot_cent': in which one observation is a weighted average of grid points from the centre of the domain\n",
    "- 'foot_6': in which $p=6$ equally distributed observations measure a weighted \n",
    "    average of neighbouring grid points. This has an additional parameter 'footprint', which governs how many grid points are observed.\n",
    "\n",
    "In the following you can also set how frequently the observations are \n",
    "available in time, and the error variance.\n",
    "Running this code provides a plot of observation operator matrix, H, which \n",
    "is the same at each time that the observations are available. Each row i of \n",
    "H represents dh(x)/dx for the ith observation. Also plotted \n",
    "are the observations as a function of the observation number and the observation time. "
   ]
  },
  {
   "cell_type": "code",
   "execution_count": null,
   "id": "eefe6fc8",
   "metadata": {
    "lines_to_next_cell": 0
   },
   "outputs": [],
   "source": [
    "from tools.plots import plotL96, plotL96obs, plotL96_Linerr, plotH, tileplotB\n",
    "obsgrid     = '1010'  # 'all': observe all variables\n",
    "                    # '1010': observe every other variable, \n",
    "                    # 'landsea': observe only half of domain\n",
    "                    # 'foot_cent': single obs of a footprint (truncated Gaussian at centre of domain)\n",
    "                    # 'foot_6': six obs of a footprint (truncated Gaussians throughout the domain)\n",
    "period_obs  = 2      # number of time steps between observations\n",
    "var_obs     = 2    # observation error variance\n",
    "seed        = 1      # random number seed\n",
    "footprint   = 3     # number of gridpoints observed by one variable for the obsgrid='foot_6'option\n",
    "# Create observation operator\n",
    "p, H        = createH(obsgrid,n,footprint)\n",
    "\n",
    "# Plot the observation operator matrix\n",
    "plotH(H)\n",
    "\n",
    "# Generate the observation times, the synthetic observations, and the ob err cor matrix\n",
    "tobs, y, R  = gen_obs(t, xtrue, period_obs, H, var_obs, seed)\n",
    "# Plot the observations\n",
    "plotL96obs(tobs, y, p, 'L96 observations')"
   ]
  },
  {
   "cell_type": "markdown",
   "id": "fe6a4d7c",
   "metadata": {},
   "source": [
    "Try different options for the obsgrid, period_obs, and var_obs. Comparing to \n",
    "the original Hovmoller plot, which options do you think provides the most \n",
    "information about the true underlying system?"
   ]
  },
  {
   "cell_type": "code",
   "execution_count": null,
   "id": "c5630535",
   "metadata": {},
   "outputs": [],
   "source": []
  }
 ],
 "metadata": {
  "jupytext": {
   "cell_metadata_filter": "-all",
   "main_language": "python",
   "notebook_metadata_filter": "-all"
  },
  "kernelspec": {
   "display_name": "Python 3 (ipykernel)",
   "language": "python",
   "name": "python3"
  },
  "language_info": {
   "codemirror_mode": {
    "name": "ipython",
    "version": 3
   },
   "file_extension": ".py",
   "mimetype": "text/x-python",
   "name": "python",
   "nbconvert_exporter": "python",
   "pygments_lexer": "ipython3",
   "version": "3.12.2"
  }
 },
 "nbformat": 4,
 "nbformat_minor": 5
}
